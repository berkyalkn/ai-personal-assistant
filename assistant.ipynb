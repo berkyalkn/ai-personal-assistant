{
 "cells": [
  {
   "cell_type": "code",
   "execution_count": 39,
   "id": "fda5f77d",
   "metadata": {},
   "outputs": [],
   "source": [
    "import datetime\n",
    "import os.path\n",
    "from dateutil import parser as date_parser\n",
    "from dotenv import load_dotenv;\n",
    "\n",
    "# Google Libraries\n",
    "from google.auth.transport.requests import Request\n",
    "from google.oauth2.credentials import Credentials\n",
    "from google_auth_oauthlib.flow import InstalledAppFlow\n",
    "from googleapiclient.discovery import build\n",
    "\n",
    "# Apple (CalDAV) Libraries\n",
    "import caldav\n",
    "from icalendar import Calendar\n"
   ]
  },
  {
   "cell_type": "code",
   "execution_count": 40,
   "id": "67e3f306",
   "metadata": {},
   "outputs": [],
   "source": [
    "load_dotenv()\n",
    "\n",
    "USE_GOOGLE_CALENDAR = True\n",
    "USE_APPLE_CALENDAR = True"
   ]
  },
  {
   "cell_type": "code",
   "execution_count": 41,
   "id": "51fa60ae",
   "metadata": {},
   "outputs": [],
   "source": [
    "GOOGLE_SCOPES = [\"https://www.googleapis.com/auth/calendar.readonly\"]\n",
    "\n",
    "APPLE_ID_EMAIL = os.getenv(\"APPLE_ID_EMAIL\") \n",
    "APP_SPECIFIC_PASSWORD = os.getenv(\"APP_SPECIFIC_PASSWORD\")\n",
    "CALDAV_URL = \"https://caldav.icloud.com\"\n"
   ]
  },
  {
   "cell_type": "code",
   "execution_count": 42,
   "id": "26e568d2",
   "metadata": {},
   "outputs": [],
   "source": [
    "def authenticate_google():\n",
    "    \"\"\"Authenticates with Google OAuth 2.0 and returns the credentials object.\"\"\"\n",
    "    creds = None\n",
    "    if os.path.exists(\"token.json\"):\n",
    "        creds = Credentials.from_authorized_user_file(\"token.json\", GOOGLE_SCOPES)\n",
    "    if not creds or not creds.valid:\n",
    "        if creds and creds.expired and creds.refresh_token:\n",
    "            creds.refresh(Request())\n",
    "        else:\n",
    "            flow = InstalledAppFlow.from_client_secrets_file(\"credentials.json\", GOOGLE_SCOPES)\n",
    "            creds = flow.run_local_server(port=0)\n",
    "        with open(\"token.json\", \"w\") as token:\n",
    "            token.write(creds.to_json())\n",
    "    return creds\n",
    "\n",
    "    \n",
    "\n",
    "def fetch_google_events(creds):\n",
    "    \"\"\"Fetches events from Google Calendar and converts them into a common format.\"\"\"\n",
    "    google_events = []\n",
    "    try:\n",
    "        service = build(\"calendar\", \"v3\", credentials=creds)\n",
    "        now = datetime.datetime.utcnow().isoformat() + \"Z\"\n",
    "        events_result = service.events().list(\n",
    "            calendarId=\"primary\",\n",
    "            timeMin=now,\n",
    "            maxResults=20,\n",
    "            singleEvents=True,\n",
    "            orderBy=\"startTime\"\n",
    "        ).execute()\n",
    "        events = events_result.get(\"items\", [])\n",
    "\n",
    "        for event in events:\n",
    "            start_str = event[\"start\"].get(\"dateTime\", event[\"start\"].get(\"date\"))\n",
    "            google_events.append({\n",
    "                \"summary\": event[\"summary\"],\n",
    "                \"start_time\": date_parser.parse(start_str),\n",
    "                \"source\": \"Google\"\n",
    "            })\n",
    "        print(\"Google Calendar events retrieved successfully.\")\n",
    "    except Exception as e:\n",
    "        print(f\"An error occurred while retrieving data from Google Calendar: {e}\")\n",
    "    return google_events"
   ]
  },
  {
   "cell_type": "code",
   "execution_count": 43,
   "id": "ad9011dd",
   "metadata": {},
   "outputs": [],
   "source": [
    "def fetch_apple_events(email, password, url):\n",
    "    \"\"\"Fetches events from Apple iCloud via CalDAV and converts them into a common format.\"\"\"\n",
    "    apple_events = []\n",
    "    try:\n",
    "        client = caldav.DAVClient(url=url, username=email, password=password)\n",
    "        principal = client.principal()\n",
    "        \n",
    "        now = datetime.datetime.now()\n",
    "        one_month_later = now + datetime.timedelta(days=30)\n",
    "        \n",
    "        for calendar in principal.calendars():\n",
    "            results = calendar.date_search(start=now, end=one_month_later, expand=True)\n",
    "            for event_raw in results:\n",
    "                cal = Calendar.from_ical(event_raw.data)\n",
    "                for component in cal.walk():\n",
    "                    if component.name == \"VEVENT\":\n",
    "                        apple_events.append({\n",
    "                            \"summary\": component.get('summary'),\n",
    "                            \"start_time\": component.get('dtstart').dt,\n",
    "                            \"source\": \"Apple\"\n",
    "                        })\n",
    "        print(\"Apple Calendar events retrieved successfully.\")\n",
    "    except Exception as e:\n",
    "        print(f\"An error occurred while retrieving data from Apple Calendar: {e}\")\n",
    "    return apple_events\n"
   ]
  },
  {
   "cell_type": "code",
   "execution_count": 44,
   "id": "11762edd",
   "metadata": {},
   "outputs": [
    {
     "name": "stdout",
     "output_type": "stream",
     "text": [
      "--- Connecting to Google Calendar ---\n"
     ]
    },
    {
     "name": "stderr",
     "output_type": "stream",
     "text": [
      "/var/folders/5y/q1w058gx5fq5_dhy09c75jfc0000gn/T/ipykernel_53397/1264591709.py:23: DeprecationWarning: datetime.datetime.utcnow() is deprecated and scheduled for removal in a future version. Use timezone-aware objects to represent datetimes in UTC: datetime.datetime.now(datetime.UTC).\n",
      "  now = datetime.datetime.utcnow().isoformat() + \"Z\"\n"
     ]
    },
    {
     "name": "stdout",
     "output_type": "stream",
     "text": [
      "Google Calendar events retrieved successfully.\n",
      "\n",
      "--- Connecting to Apple Calendar ---\n"
     ]
    },
    {
     "name": "stderr",
     "output_type": "stream",
     "text": [
      "/var/folders/5y/q1w058gx5fq5_dhy09c75jfc0000gn/T/ipykernel_53397/2161321627.py:12: DeprecationWarning: use `calendar.search rather than `calendar.date_search`\n",
      "  results = calendar.date_search(start=now, end=one_month_later, expand=True)\n"
     ]
    },
    {
     "name": "stdout",
     "output_type": "stream",
     "text": [
      "Apple Calendar events retrieved successfully.\n",
      "\n",
      "All calendars have been merged and sorted.\n"
     ]
    }
   ],
   "source": [
    "all_events = []\n",
    "\n",
    "\n",
    "if USE_GOOGLE_CALENDAR:\n",
    "    print(\"--- Connecting to Google Calendar ---\")\n",
    "    try:\n",
    "        google_creds = authenticate_google()\n",
    "        google_events = fetch_google_events(google_creds)\n",
    "        all_events.extend(google_events)\n",
    "    except Exception as e:\n",
    "        print(f\"Google authentication failed: {e}\")\n",
    "\n",
    "\n",
    "if USE_APPLE_CALENDAR:\n",
    "    print(\"\\n--- Connecting to Apple Calendar ---\")\n",
    "    apple_events = fetch_apple_events(APPLE_ID_EMAIL, APP_SPECIFIC_PASSWORD, CALDAV_URL)\n",
    "    all_events.extend(apple_events)\n",
    "\n",
    "if all_events:\n",
    "    now_tz = datetime.datetime.now().astimezone().tzinfo\n",
    "    for event in all_events:\n",
    "        if event['start_time'].tzinfo is None:\n",
    "            event['start_time'] = event['start_time'].replace(tzinfo=now_tz)\n",
    "\n",
    "    all_events.sort(key=lambda x: x['start_time'])\n",
    "    print(\"\\nAll calendars have been merged and sorted.\")"
   ]
  },
  {
   "cell_type": "code",
   "execution_count": 45,
   "id": "30c54f83",
   "metadata": {},
   "outputs": [
    {
     "name": "stdout",
     "output_type": "stream",
     "text": [
      "\n",
      "--- MERGED CALENDAR AGENDA ---\n",
      "🗓️  17 Aug 2025, 18:00 - Aaaa [Apple]\n"
     ]
    }
   ],
   "source": [
    "if all_events:\n",
    "    print(\"\\n--- MERGED CALENDAR AGENDA ---\")\n",
    "    for event in all_events:\n",
    "        source_tag = f\"[{event['source']}]\"\n",
    "        \n",
    "        local_time = event['start_time'].astimezone()\n",
    "        \n",
    "        print(f\"🗓️  {local_time.strftime('%d %b %Y, %H:%M')} - {event['summary']} {source_tag}\")\n",
    "else:\n",
    "    print(\"\\nNo events found to display.\")"
   ]
  }
 ],
 "metadata": {
  "kernelspec": {
   "display_name": "Python 3",
   "language": "python",
   "name": "python3"
  },
  "language_info": {
   "codemirror_mode": {
    "name": "ipython",
    "version": 3
   },
   "file_extension": ".py",
   "mimetype": "text/x-python",
   "name": "python",
   "nbconvert_exporter": "python",
   "pygments_lexer": "ipython3",
   "version": "3.13.1"
  }
 },
 "nbformat": 4,
 "nbformat_minor": 5
}
